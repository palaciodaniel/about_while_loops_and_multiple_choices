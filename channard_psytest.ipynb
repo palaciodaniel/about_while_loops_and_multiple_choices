{
 "cells": [
  {
   "cell_type": "markdown",
   "metadata": {},
   "source": [
    "# Channard's Psychosis Inventory\n",
    "*Daniel Palacio - 2020*\n",
    "\n",
    "**NOTE:** The following test is completely fictional, and it is not meant to be taken seriously. It was created only for demonstrative purposes. The use of a real test was ruled out to avoid potential copyright infringements.\n"
   ]
  },
  {
   "cell_type": "code",
   "execution_count": null,
   "metadata": {
    "scrolled": false
   },
   "outputs": [],
   "source": [
    "%matplotlib inline\n",
    "\n",
    "# START MULTIPLE CHOICE\n",
    "\n",
    "from packages.channard_exec import channard_run\n",
    "\n",
    "ch_choices, ch_subchoices = channard_run()\n"
   ]
  },
  {
   "cell_type": "code",
   "execution_count": null,
   "metadata": {
    "scrolled": true
   },
   "outputs": [],
   "source": [
    "# RESULTS\n",
    "\n",
    "from packages.channard_class import channard_gravity\n",
    "\n",
    "print(\"CHOSEN OPTIONS: \", ch_choices)\n",
    "\n",
    "if ch_subchoices != {}:\n",
    "    print(\"Sub-choices: \", ch_subchoices)\n",
    "\n",
    "total = sum(ch_choices.values())    \n",
    "\n",
    "print(\"\\n\") \n",
    "\n",
    "print(\"TEST RESULT: \", total, channard_gravity(total))\n",
    "print(\"\\n\")\n",
    "\n",
    "# \"\"\"REFERENCE: 0 to 13: No psychosis; 14 to 19: Mild psychosis; 20 to 28: Moderate psychosis; \n",
    "# 29 to 63: Severe psychosis\"\"\")"
   ]
  },
  {
   "cell_type": "code",
   "execution_count": null,
   "metadata": {
    "scrolled": true
   },
   "outputs": [],
   "source": [
    "# CHART 1\n",
    "\n",
    "import numpy as np\n",
    "import matplotlib.pyplot as plt\n",
    "import seaborn as sns\n",
    "\n",
    "fig, ax = plt.subplots(figsize=(14, 3))\n",
    "\n",
    "ax = plt.axes()\n",
    "\n",
    "ax.scatter(x=list(ch_choices.keys()), y=list(ch_choices.values()), marker = \"o\", c = \"black\")\n",
    "\n",
    "plt.xlim([0.5, 21.5])\n",
    "plt.ylim([-0.25, 3.25])\n",
    "ax.set_xticks(np.arange(1, 21.1, step=1))\n",
    "ax.set_yticks(np.arange(0, 3.1, step = 1))\n",
    "\n",
    "ax.spines['top'].set_visible(False)\n",
    "ax.spines['right'].set_visible(False)\n",
    "ax.spines['left'].set_visible(False)\n",
    "ax.spines['bottom'].set_visible(False)\n",
    "\n",
    "ax.set_title(\"Channard's Psychosis Inventory - Gravity per item\", fontsize = 20, y = 1.10)\n",
    "plt.grid(axis = \"y\", alpha = 0.4)\n",
    "ax.set_xlabel(\"Items\", fontsize = 14, labelpad = 15)\n",
    "ax.tick_params(bottom = False, left = False)\n",
    "ax.set_ylabel(\"Gravity\", fontsize = 14, labelpad = 15)\n",
    "\n",
    "plt.show()"
   ]
  },
  {
   "cell_type": "code",
   "execution_count": null,
   "metadata": {},
   "outputs": [],
   "source": [
    "# CHART 2\n",
    "\n",
    "plt.figure(figsize=(13, 7))\n",
    "\n",
    "ax = sns.countplot(list(ch_choices.values()), palette = sns.dark_palette(\"blue\", reverse = True))\n",
    "\n",
    "ax.set(xlim = (-0.5, 3.5), \n",
    "       yticks = np.arange(0, 22, step = 1))\n",
    "\n",
    "ax.set_title(\"Channard's Psychosis Inventory - Item count per gravity\", fontsize = 20)\n",
    "ax.set_xlabel(\"Gravity\", fontsize = 14, labelpad = 15)\n",
    "ax.set_ylabel(\"Count\", fontsize = 14, labelpad = 15)\n",
    "\n",
    "ax.spines['top'].set_visible(False)\n",
    "ax.spines['right'].set_visible(False)\n",
    "\n",
    "plt.show()"
   ]
  }
 ],
 "metadata": {
  "kernelspec": {
   "display_name": "Python 3",
   "language": "python",
   "name": "python3"
  },
  "language_info": {
   "codemirror_mode": {
    "name": "ipython",
    "version": 3
   },
   "file_extension": ".py",
   "mimetype": "text/x-python",
   "name": "python",
   "nbconvert_exporter": "python",
   "pygments_lexer": "ipython3",
   "version": "3.7.4"
  }
 },
 "nbformat": 4,
 "nbformat_minor": 2
}
